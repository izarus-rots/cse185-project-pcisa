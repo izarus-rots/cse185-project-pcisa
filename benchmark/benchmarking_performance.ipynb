{
 "cells": [
  {
   "cell_type": "markdown",
   "metadata": {},
   "source": [
    "# Benchmarking (performance)\n",
    "Testing the performance of the CLI versus scanpy PCA in performance and memory usage.\n",
    "\n",
    "Note: any commands run that build the tool will require a repository restart. DO NOT commit the built repo."
   ]
  },
  {
   "cell_type": "markdown",
   "metadata": {},
   "source": [
    "## PCisA Time Performance\n",
    "---"
   ]
  },
  {
   "cell_type": "code",
   "execution_count": 2,
   "metadata": {},
   "outputs": [
    {
     "name": "stdout",
     "output_type": "stream",
     "text": [
      "/Users/isa/sp24/CSE 185/cse185-project-pcisa\n"
     ]
    }
   ],
   "source": [
    "%%bash\n",
    "cd ..\n",
    "pip install -e ."
   ]
  },
  {
   "cell_type": "code",
   "execution_count": null,
   "metadata": {},
   "outputs": [],
   "source": [
    "%%bash\n",
    "time pcisa -f E-MTAB-5727-quantification-raw-files/E-MTAB-5727.aggregated_filtered_counts.mtx -n 2 -p -o pca_out1.csv"
   ]
  },
  {
   "cell_type": "markdown",
   "metadata": {},
   "source": [
    "## scanpy PCA Time Performance\n",
    "---"
   ]
  },
  {
   "cell_type": "code",
   "execution_count": null,
   "metadata": {},
   "outputs": [],
   "source": [
    "%%bash\n",
    "pip install scanpy"
   ]
  },
  {
   "cell_type": "code",
   "execution_count": null,
   "metadata": {},
   "outputs": [],
   "source": [
    "import scanpy as sc\n",
    "import anndata as ad\n"
   ]
  }
 ],
 "metadata": {
  "kernelspec": {
   "display_name": "pcisa",
   "language": "python",
   "name": "python3"
  },
  "language_info": {
   "codemirror_mode": {
    "name": "ipython",
    "version": 3
   },
   "file_extension": ".py",
   "mimetype": "text/x-python",
   "name": "python",
   "nbconvert_exporter": "python",
   "pygments_lexer": "ipython3",
   "version": "3.12.3"
  }
 },
 "nbformat": 4,
 "nbformat_minor": 2
}
