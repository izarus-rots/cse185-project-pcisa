{
 "cells": [
  {
   "cell_type": "markdown",
   "metadata": {},
   "source": [
    "# Benchmarking (performance)\n",
    "Testing the performance of the CLI versus scanpy PCA in performance and memory usage.\n",
    "\n",
    "Note: any commands run that build the tool will require a repository restart. DO NOT commit the built repo."
   ]
  },
  {
   "cell_type": "markdown",
   "metadata": {},
   "source": [
    "## PCisA Time Performance\n",
    "---"
   ]
  },
  {
   "cell_type": "code",
   "execution_count": 3,
   "metadata": {},
   "outputs": [
    {
     "name": "stderr",
     "output_type": "stream",
     "text": [
      "\u001b[33mDEPRECATION: Loading egg at /Users/isa/.pyenv/versions/3.12.3/envs/pcisa/lib/python3.12/site-packages/kiwisolver-1.4.5-py3.12-macosx-14.3-x86_64.egg is deprecated. pip 24.3 will enforce this behaviour change. A possible replacement is to use pip for package installation.. Discussion can be found at https://github.com/pypa/pip/issues/12330\u001b[0m\u001b[33m\n",
      "\u001b[0m\u001b[33mDEPRECATION: Loading egg at /Users/isa/.pyenv/versions/3.12.3/envs/pcisa/lib/python3.12/site-packages/fonttools-4.51.0-py3.12-macosx-14.3-x86_64.egg is deprecated. pip 24.3 will enforce this behaviour change. A possible replacement is to use pip for package installation.. Discussion can be found at https://github.com/pypa/pip/issues/12330\u001b[0m\u001b[33m\n",
      "\u001b[0m\u001b[33mDEPRECATION: Loading egg at /Users/isa/.pyenv/versions/3.12.3/envs/pcisa/lib/python3.12/site-packages/matplotlib-3.9.0-py3.12-macosx-14.3-x86_64.egg is deprecated. pip 24.3 will enforce this behaviour change. A possible replacement is to use pip for package installation.. Discussion can be found at https://github.com/pypa/pip/issues/12330\u001b[0m\u001b[33m\n",
      "\u001b[0m\u001b[33mDEPRECATION: Loading egg at /Users/isa/.pyenv/versions/3.12.3/envs/pcisa/lib/python3.12/site-packages/cycler-0.12.1-py3.12.egg is deprecated. pip 24.3 will enforce this behaviour change. A possible replacement is to use pip for package installation.. Discussion can be found at https://github.com/pypa/pip/issues/12330\u001b[0m\u001b[33m\n",
      "\u001b[0m\u001b[33mDEPRECATION: Loading egg at /Users/isa/.pyenv/versions/3.12.3/envs/pcisa/lib/python3.12/site-packages/pcisa-0.0.0-py3.12.egg is deprecated. pip 24.3 will enforce this behaviour change. A possible replacement is to use pip for package installation.. Discussion can be found at https://github.com/pypa/pip/issues/12330\u001b[0m\u001b[33m\n",
      "\u001b[0m\u001b[33mDEPRECATION: Loading egg at /Users/isa/.pyenv/versions/3.12.3/envs/pcisa/lib/python3.12/site-packages/contourpy-1.2.1-py3.12-macosx-14.3-x86_64.egg is deprecated. pip 24.3 will enforce this behaviour change. A possible replacement is to use pip for package installation.. Discussion can be found at https://github.com/pypa/pip/issues/12330\u001b[0m\u001b[33m\n",
      "\u001b[0m\u001b[33mDEPRECATION: Loading egg at /Users/isa/.pyenv/versions/3.12.3/envs/pcisa/lib/python3.12/site-packages/pyparsing-3.1.2-py3.12.egg is deprecated. pip 24.3 will enforce this behaviour change. A possible replacement is to use pip for package installation.. Discussion can be found at https://github.com/pypa/pip/issues/12330\u001b[0m\u001b[33m\n",
      "\u001b[0m\u001b[33mDEPRECATION: Loading egg at /Users/isa/.pyenv/versions/3.12.3/envs/pcisa/lib/python3.12/site-packages/pillow-10.3.0-py3.12-macosx-14.3-x86_64.egg is deprecated. pip 24.3 will enforce this behaviour change. A possible replacement is to use pip for package installation.. Discussion can be found at https://github.com/pypa/pip/issues/12330\u001b[0m\u001b[33m\n",
      "\u001b[0m\u001b[33mDEPRECATION: Loading egg at /Users/isa/.pyenv/versions/3.12.3/envs/pcisa/lib/python3.12/site-packages/pcisa-0.0.1-py3.12.egg is deprecated. pip 24.3 will enforce this behaviour change. A possible replacement is to use pip for package installation.. Discussion can be found at https://github.com/pypa/pip/issues/12330\u001b[0m\u001b[33m\n"
     ]
    },
    {
     "name": "stdout",
     "output_type": "stream",
     "text": [
      "Obtaining file:///Users/isa/sp24/CSE%20185/cse185-project-pcisa\n",
      "  Installing build dependencies: started\n",
      "  Installing build dependencies: finished with status 'done'\n",
      "  Checking if build backend supports build_editable: started\n",
      "  Checking if build backend supports build_editable: finished with status 'done'\n",
      "  Getting requirements to build editable: started\n",
      "  Getting requirements to build editable: finished with status 'done'\n",
      "  Installing backend dependencies: started\n",
      "  Installing backend dependencies: finished with status 'done'\n",
      "  Preparing editable metadata (pyproject.toml): started\n",
      "  Preparing editable metadata (pyproject.toml): finished with status 'done'\n",
      "Requirement already satisfied: numpy in /Users/isa/.pyenv/versions/3.12.3/envs/pcisa/lib/python3.12/site-packages (from pcisa==0.0.0) (1.26.4)\n",
      "Requirement already satisfied: anndata in /Users/isa/.pyenv/versions/3.12.3/envs/pcisa/lib/python3.12/site-packages (from pcisa==0.0.0) (0.10.7)\n",
      "Requirement already satisfied: matplotlib in /Users/isa/.pyenv/versions/3.12.3/envs/pcisa/lib/python3.12/site-packages/matplotlib-3.9.0-py3.12-macosx-14.3-x86_64.egg (from pcisa==0.0.0) (3.9.0)\n",
      "Requirement already satisfied: pandas in /Users/isa/.pyenv/versions/3.12.3/envs/pcisa/lib/python3.12/site-packages (from pcisa==0.0.0) (2.2.2)\n",
      "Requirement already satisfied: scipy in /Users/isa/.pyenv/versions/3.12.3/envs/pcisa/lib/python3.12/site-packages (from pcisa==0.0.0) (1.13.1)\n",
      "Requirement already satisfied: array-api-compat!=1.5,>1.4 in /Users/isa/.pyenv/versions/3.12.3/envs/pcisa/lib/python3.12/site-packages (from anndata->pcisa==0.0.0) (1.6)\n",
      "Requirement already satisfied: h5py>=3.1 in /Users/isa/.pyenv/versions/3.12.3/envs/pcisa/lib/python3.12/site-packages (from anndata->pcisa==0.0.0) (3.11.0)\n",
      "Requirement already satisfied: natsort in /Users/isa/.pyenv/versions/3.12.3/envs/pcisa/lib/python3.12/site-packages (from anndata->pcisa==0.0.0) (8.4.0)\n",
      "Requirement already satisfied: packaging>=20.0 in /Users/isa/.pyenv/versions/3.12.3/envs/pcisa/lib/python3.12/site-packages (from anndata->pcisa==0.0.0) (24.0)\n",
      "Requirement already satisfied: python-dateutil>=2.8.2 in /Users/isa/.pyenv/versions/3.12.3/envs/pcisa/lib/python3.12/site-packages (from pandas->pcisa==0.0.0) (2.9.0.post0)\n",
      "Requirement already satisfied: pytz>=2020.1 in /Users/isa/.pyenv/versions/3.12.3/envs/pcisa/lib/python3.12/site-packages (from pandas->pcisa==0.0.0) (2024.1)\n",
      "Requirement already satisfied: tzdata>=2022.7 in /Users/isa/.pyenv/versions/3.12.3/envs/pcisa/lib/python3.12/site-packages (from pandas->pcisa==0.0.0) (2024.1)\n",
      "Requirement already satisfied: contourpy>=1.0.1 in /Users/isa/.pyenv/versions/3.12.3/envs/pcisa/lib/python3.12/site-packages/contourpy-1.2.1-py3.12-macosx-14.3-x86_64.egg (from matplotlib->pcisa==0.0.0) (1.2.1)\n",
      "Requirement already satisfied: cycler>=0.10 in /Users/isa/.pyenv/versions/3.12.3/envs/pcisa/lib/python3.12/site-packages/cycler-0.12.1-py3.12.egg (from matplotlib->pcisa==0.0.0) (0.12.1)\n",
      "Requirement already satisfied: fonttools>=4.22.0 in /Users/isa/.pyenv/versions/3.12.3/envs/pcisa/lib/python3.12/site-packages/fonttools-4.51.0-py3.12-macosx-14.3-x86_64.egg (from matplotlib->pcisa==0.0.0) (4.51.0)\n",
      "Requirement already satisfied: kiwisolver>=1.3.1 in /Users/isa/.pyenv/versions/3.12.3/envs/pcisa/lib/python3.12/site-packages/kiwisolver-1.4.5-py3.12-macosx-14.3-x86_64.egg (from matplotlib->pcisa==0.0.0) (1.4.5)\n",
      "Requirement already satisfied: pillow>=8 in /Users/isa/.pyenv/versions/3.12.3/envs/pcisa/lib/python3.12/site-packages/pillow-10.3.0-py3.12-macosx-14.3-x86_64.egg (from matplotlib->pcisa==0.0.0) (10.3.0)\n",
      "Requirement already satisfied: pyparsing>=2.3.1 in /Users/isa/.pyenv/versions/3.12.3/envs/pcisa/lib/python3.12/site-packages/pyparsing-3.1.2-py3.12.egg (from matplotlib->pcisa==0.0.0) (3.1.2)\n",
      "Requirement already satisfied: six>=1.5 in /Users/isa/.pyenv/versions/3.12.3/envs/pcisa/lib/python3.12/site-packages (from python-dateutil>=2.8.2->pandas->pcisa==0.0.0) (1.16.0)\n",
      "Building wheels for collected packages: pcisa\n",
      "  Building editable for pcisa (pyproject.toml): started\n",
      "  Building editable for pcisa (pyproject.toml): finished with status 'done'\n",
      "  Created wheel for pcisa: filename=pcisa-0.0.0-0.editable-py3-none-any.whl size=2946 sha256=9a5a45e8e1827d9ef41db5341eb35ae7fd7ea4ec07688e661d0a2e459d5aff73\n",
      "  Stored in directory: /private/var/folders/p5/q6v96xf17l5686cmvjxdg2m80000gn/T/pip-ephem-wheel-cache-r188tok2/wheels/85/ac/9d/8cfd3b81bba89725922b22933c74b00eb6915b72f118c8d782\n",
      "Successfully built pcisa\n",
      "Installing collected packages: pcisa\n",
      "  Attempting uninstall: pcisa\n",
      "    Found existing installation: pcisa 0.0.0\n",
      "    Uninstalling pcisa-0.0.0:\n",
      "      Successfully uninstalled pcisa-0.0.0\n",
      "Successfully installed pcisa-0.0.0\n"
     ]
    },
    {
     "name": "stderr",
     "output_type": "stream",
     "text": [
      "\u001b[0m"
     ]
    }
   ],
   "source": [
    "%%bash\n",
    "cd ..\n",
    "pip install -e ."
   ]
  },
  {
   "cell_type": "code",
   "execution_count": 5,
   "metadata": {},
   "outputs": [
    {
     "name": "stdout",
     "output_type": "stream",
     "text": [
      "Running PCA on E-MTAB-5727.aggregated_filtered_counts.mtx with 2 principal components.\n",
      "Option file: E-MTAB-5727.aggregated_filtered_counts.mtx\n",
      "Option n_pcs: 2\n",
      "Option output: pca_out1.csv\n",
      "Option plot: True\n",
      "Running PCA! Please wait.\n",
      "PCA results saved to /Users/isa/sp24/CSE 185/cse185-project-pcisa/benchmark/pca_out1.csv\n",
      "PCA plot saved to quickPCA.png in /Users/isa/sp24/CSE 185/cse185-project-pcisa/benchmark\n"
     ]
    },
    {
     "name": "stderr",
     "output_type": "stream",
     "text": [
      "\n",
      "real\t0m56.081s\n",
      "user\t1m23.422s\n",
      "sys\t0m7.370s\n"
     ]
    }
   ],
   "source": [
    "%%bash\n",
    "time pcisa -f E-MTAB-5727.aggregated_filtered_counts.mtx -n 2 -p -o pca_out1.csv"
   ]
  },
  {
   "cell_type": "markdown",
   "metadata": {},
   "source": [
    "## scanpy PCA Time Performance\n",
    "---"
   ]
  },
  {
   "cell_type": "code",
   "execution_count": 6,
   "metadata": {},
   "outputs": [
    {
     "name": "stderr",
     "output_type": "stream",
     "text": [
      "\u001b[33mDEPRECATION: Loading egg at /Users/isa/.pyenv/versions/3.12.3/envs/pcisa/lib/python3.12/site-packages/kiwisolver-1.4.5-py3.12-macosx-14.3-x86_64.egg is deprecated. pip 24.3 will enforce this behaviour change. A possible replacement is to use pip for package installation.. Discussion can be found at https://github.com/pypa/pip/issues/12330\u001b[0m\u001b[33m\n",
      "\u001b[0m\u001b[33mDEPRECATION: Loading egg at /Users/isa/.pyenv/versions/3.12.3/envs/pcisa/lib/python3.12/site-packages/fonttools-4.51.0-py3.12-macosx-14.3-x86_64.egg is deprecated. pip 24.3 will enforce this behaviour change. A possible replacement is to use pip for package installation.. Discussion can be found at https://github.com/pypa/pip/issues/12330\u001b[0m\u001b[33m\n",
      "\u001b[0m\u001b[33mDEPRECATION: Loading egg at /Users/isa/.pyenv/versions/3.12.3/envs/pcisa/lib/python3.12/site-packages/matplotlib-3.9.0-py3.12-macosx-14.3-x86_64.egg is deprecated. pip 24.3 will enforce this behaviour change. A possible replacement is to use pip for package installation.. Discussion can be found at https://github.com/pypa/pip/issues/12330\u001b[0m\u001b[33m\n",
      "\u001b[0m\u001b[33mDEPRECATION: Loading egg at /Users/isa/.pyenv/versions/3.12.3/envs/pcisa/lib/python3.12/site-packages/cycler-0.12.1-py3.12.egg is deprecated. pip 24.3 will enforce this behaviour change. A possible replacement is to use pip for package installation.. Discussion can be found at https://github.com/pypa/pip/issues/12330\u001b[0m\u001b[33m\n",
      "\u001b[0m\u001b[33mDEPRECATION: Loading egg at /Users/isa/.pyenv/versions/3.12.3/envs/pcisa/lib/python3.12/site-packages/contourpy-1.2.1-py3.12-macosx-14.3-x86_64.egg is deprecated. pip 24.3 will enforce this behaviour change. A possible replacement is to use pip for package installation.. Discussion can be found at https://github.com/pypa/pip/issues/12330\u001b[0m\u001b[33m\n",
      "\u001b[0m\u001b[33mDEPRECATION: Loading egg at /Users/isa/.pyenv/versions/3.12.3/envs/pcisa/lib/python3.12/site-packages/pyparsing-3.1.2-py3.12.egg is deprecated. pip 24.3 will enforce this behaviour change. A possible replacement is to use pip for package installation.. Discussion can be found at https://github.com/pypa/pip/issues/12330\u001b[0m\u001b[33m\n",
      "\u001b[0m\u001b[33mDEPRECATION: Loading egg at /Users/isa/.pyenv/versions/3.12.3/envs/pcisa/lib/python3.12/site-packages/pillow-10.3.0-py3.12-macosx-14.3-x86_64.egg is deprecated. pip 24.3 will enforce this behaviour change. A possible replacement is to use pip for package installation.. Discussion can be found at https://github.com/pypa/pip/issues/12330\u001b[0m\u001b[33m\n",
      "\u001b[0m\u001b[33mDEPRECATION: Loading egg at /Users/isa/.pyenv/versions/3.12.3/envs/pcisa/lib/python3.12/site-packages/pcisa-0.0.1-py3.12.egg is deprecated. pip 24.3 will enforce this behaviour change. A possible replacement is to use pip for package installation.. Discussion can be found at https://github.com/pypa/pip/issues/12330\u001b[0m\u001b[33m\n"
     ]
    },
    {
     "name": "stdout",
     "output_type": "stream",
     "text": [
      "Collecting scanpy\n",
      "  Using cached scanpy-1.10.1-py3-none-any.whl.metadata (8.6 kB)\n",
      "Requirement already satisfied: anndata>=0.8 in /Users/isa/.pyenv/versions/3.12.3/envs/pcisa/lib/python3.12/site-packages (from scanpy) (0.10.7)\n",
      "Requirement already satisfied: h5py>=3.1 in /Users/isa/.pyenv/versions/3.12.3/envs/pcisa/lib/python3.12/site-packages (from scanpy) (3.11.0)\n",
      "Collecting joblib (from scanpy)\n",
      "  Using cached joblib-1.4.2-py3-none-any.whl.metadata (5.4 kB)\n",
      "Collecting legacy-api-wrap>=1.4 (from scanpy)\n",
      "  Using cached legacy_api_wrap-1.4-py3-none-any.whl.metadata (1.8 kB)\n",
      "Requirement already satisfied: matplotlib>=3.6 in /Users/isa/.pyenv/versions/3.12.3/envs/pcisa/lib/python3.12/site-packages/matplotlib-3.9.0-py3.12-macosx-14.3-x86_64.egg (from scanpy) (3.9.0)\n",
      "Requirement already satisfied: natsort in /Users/isa/.pyenv/versions/3.12.3/envs/pcisa/lib/python3.12/site-packages (from scanpy) (8.4.0)\n",
      "Collecting networkx>=2.7 (from scanpy)\n",
      "  Using cached networkx-3.3-py3-none-any.whl.metadata (5.1 kB)\n",
      "Collecting numba>=0.56 (from scanpy)\n",
      "  Using cached numba-0.59.1-cp312-cp312-macosx_10_9_x86_64.whl.metadata (2.7 kB)\n",
      "Requirement already satisfied: numpy>=1.23 in /Users/isa/.pyenv/versions/3.12.3/envs/pcisa/lib/python3.12/site-packages (from scanpy) (1.26.4)\n",
      "Requirement already satisfied: packaging>=21.3 in /Users/isa/.pyenv/versions/3.12.3/envs/pcisa/lib/python3.12/site-packages (from scanpy) (24.0)\n",
      "Requirement already satisfied: pandas>=1.5 in /Users/isa/.pyenv/versions/3.12.3/envs/pcisa/lib/python3.12/site-packages (from scanpy) (2.2.2)\n",
      "Collecting patsy (from scanpy)\n",
      "  Using cached patsy-0.5.6-py2.py3-none-any.whl.metadata (3.5 kB)\n",
      "Collecting pynndescent>=0.5 (from scanpy)\n",
      "  Using cached pynndescent-0.5.12-py3-none-any.whl.metadata (6.8 kB)\n",
      "Collecting scikit-learn>=0.24 (from scanpy)\n",
      "  Using cached scikit_learn-1.5.0-cp312-cp312-macosx_10_9_x86_64.whl.metadata (11 kB)\n",
      "Requirement already satisfied: scipy>=1.8 in /Users/isa/.pyenv/versions/3.12.3/envs/pcisa/lib/python3.12/site-packages (from scanpy) (1.13.1)\n",
      "Requirement already satisfied: seaborn>=0.13 in /Users/isa/.pyenv/versions/3.12.3/envs/pcisa/lib/python3.12/site-packages (from scanpy) (0.13.2)\n",
      "Collecting session-info (from scanpy)\n",
      "  Using cached session_info-1.0.0-py3-none-any.whl\n",
      "Collecting statsmodels>=0.13 (from scanpy)\n",
      "  Using cached statsmodels-0.14.2-cp312-cp312-macosx_10_9_x86_64.whl.metadata (9.2 kB)\n",
      "Collecting tqdm (from scanpy)\n",
      "  Using cached tqdm-4.66.4-py3-none-any.whl.metadata (57 kB)\n",
      "Collecting umap-learn!=0.5.0,>=0.5 (from scanpy)\n",
      "  Using cached umap_learn-0.5.6-py3-none-any.whl.metadata (21 kB)\n",
      "Requirement already satisfied: array-api-compat!=1.5,>1.4 in /Users/isa/.pyenv/versions/3.12.3/envs/pcisa/lib/python3.12/site-packages (from anndata>=0.8->scanpy) (1.6)\n",
      "Requirement already satisfied: contourpy>=1.0.1 in /Users/isa/.pyenv/versions/3.12.3/envs/pcisa/lib/python3.12/site-packages/contourpy-1.2.1-py3.12-macosx-14.3-x86_64.egg (from matplotlib>=3.6->scanpy) (1.2.1)\n",
      "Requirement already satisfied: cycler>=0.10 in /Users/isa/.pyenv/versions/3.12.3/envs/pcisa/lib/python3.12/site-packages/cycler-0.12.1-py3.12.egg (from matplotlib>=3.6->scanpy) (0.12.1)\n",
      "Requirement already satisfied: fonttools>=4.22.0 in /Users/isa/.pyenv/versions/3.12.3/envs/pcisa/lib/python3.12/site-packages/fonttools-4.51.0-py3.12-macosx-14.3-x86_64.egg (from matplotlib>=3.6->scanpy) (4.51.0)\n",
      "Requirement already satisfied: kiwisolver>=1.3.1 in /Users/isa/.pyenv/versions/3.12.3/envs/pcisa/lib/python3.12/site-packages/kiwisolver-1.4.5-py3.12-macosx-14.3-x86_64.egg (from matplotlib>=3.6->scanpy) (1.4.5)\n",
      "Requirement already satisfied: pillow>=8 in /Users/isa/.pyenv/versions/3.12.3/envs/pcisa/lib/python3.12/site-packages/pillow-10.3.0-py3.12-macosx-14.3-x86_64.egg (from matplotlib>=3.6->scanpy) (10.3.0)\n",
      "Requirement already satisfied: pyparsing>=2.3.1 in /Users/isa/.pyenv/versions/3.12.3/envs/pcisa/lib/python3.12/site-packages/pyparsing-3.1.2-py3.12.egg (from matplotlib>=3.6->scanpy) (3.1.2)\n",
      "Requirement already satisfied: python-dateutil>=2.7 in /Users/isa/.pyenv/versions/3.12.3/envs/pcisa/lib/python3.12/site-packages (from matplotlib>=3.6->scanpy) (2.9.0.post0)\n",
      "Collecting llvmlite<0.43,>=0.42.0dev0 (from numba>=0.56->scanpy)\n",
      "  Using cached llvmlite-0.42.0-cp312-cp312-macosx_10_9_x86_64.whl.metadata (4.8 kB)\n",
      "Requirement already satisfied: pytz>=2020.1 in /Users/isa/.pyenv/versions/3.12.3/envs/pcisa/lib/python3.12/site-packages (from pandas>=1.5->scanpy) (2024.1)\n",
      "Requirement already satisfied: tzdata>=2022.7 in /Users/isa/.pyenv/versions/3.12.3/envs/pcisa/lib/python3.12/site-packages (from pandas>=1.5->scanpy) (2024.1)\n",
      "Collecting threadpoolctl>=3.1.0 (from scikit-learn>=0.24->scanpy)\n",
      "  Using cached threadpoolctl-3.5.0-py3-none-any.whl.metadata (13 kB)\n",
      "Requirement already satisfied: six in /Users/isa/.pyenv/versions/3.12.3/envs/pcisa/lib/python3.12/site-packages (from patsy->scanpy) (1.16.0)\n",
      "Collecting stdlib-list (from session-info->scanpy)\n",
      "  Using cached stdlib_list-0.10.0-py3-none-any.whl.metadata (3.3 kB)\n",
      "Using cached scanpy-1.10.1-py3-none-any.whl (2.1 MB)\n",
      "Using cached legacy_api_wrap-1.4-py3-none-any.whl (15 kB)\n",
      "Using cached networkx-3.3-py3-none-any.whl (1.7 MB)\n",
      "Using cached numba-0.59.1-cp312-cp312-macosx_10_9_x86_64.whl (2.6 MB)\n",
      "Using cached pynndescent-0.5.12-py3-none-any.whl (56 kB)\n",
      "Using cached joblib-1.4.2-py3-none-any.whl (301 kB)\n",
      "Using cached scikit_learn-1.5.0-cp312-cp312-macosx_10_9_x86_64.whl (12.1 MB)\n",
      "Using cached statsmodels-0.14.2-cp312-cp312-macosx_10_9_x86_64.whl (10.4 MB)\n",
      "Using cached patsy-0.5.6-py2.py3-none-any.whl (233 kB)\n",
      "Using cached umap_learn-0.5.6-py3-none-any.whl (85 kB)\n",
      "Using cached tqdm-4.66.4-py3-none-any.whl (78 kB)\n",
      "Using cached llvmlite-0.42.0-cp312-cp312-macosx_10_9_x86_64.whl (31.1 MB)\n",
      "Using cached threadpoolctl-3.5.0-py3-none-any.whl (18 kB)\n",
      "Using cached stdlib_list-0.10.0-py3-none-any.whl (79 kB)\n",
      "Installing collected packages: tqdm, threadpoolctl, stdlib-list, patsy, networkx, llvmlite, legacy-api-wrap, joblib, session-info, scikit-learn, numba, statsmodels, pynndescent, umap-learn, scanpy\n",
      "Successfully installed joblib-1.4.2 legacy-api-wrap-1.4 llvmlite-0.42.0 networkx-3.3 numba-0.59.1 patsy-0.5.6 pynndescent-0.5.12 scanpy-1.10.1 scikit-learn-1.5.0 session-info-1.0.0 statsmodels-0.14.2 stdlib-list-0.10.0 threadpoolctl-3.5.0 tqdm-4.66.4 umap-learn-0.5.6\n"
     ]
    },
    {
     "name": "stderr",
     "output_type": "stream",
     "text": [
      "\u001b[0m"
     ]
    }
   ],
   "source": [
    "%%bash\n",
    "pip install scanpy"
   ]
  },
  {
   "cell_type": "code",
   "execution_count": null,
   "metadata": {},
   "outputs": [],
   "source": [
    "import scanpy as sc\n",
    "import anndata as ad\n",
    "from anndata import AnnData\n",
    "\n",
    "from scipy.io import mmread\n",
    "\n",
    "adata = AnnData(X=mmread(\"E-MTAB-5727.aggregated_filtered_counts.mtx\").toarray().T)\n",
    "\n",
    "sc.tl.pca(adata)\n",
    "sc.pl.pca(adata)"
   ]
  }
 ],
 "metadata": {
  "kernelspec": {
   "display_name": "pcisa",
   "language": "python",
   "name": "python3"
  },
  "language_info": {
   "codemirror_mode": {
    "name": "ipython",
    "version": 3
   },
   "file_extension": ".py",
   "mimetype": "text/x-python",
   "name": "python",
   "nbconvert_exporter": "python",
   "pygments_lexer": "ipython3",
   "version": "3.12.3"
  }
 },
 "nbformat": 4,
 "nbformat_minor": 2
}
